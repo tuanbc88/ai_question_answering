{
 "cells": [
  {
   "cell_type": "markdown",
   "metadata": {},
   "source": [
    "# Question Answer Extraction Model Evaluation"
   ]
  },
  {
   "cell_type": "markdown",
   "metadata": {},
   "source": [
    "## 1. Packages and params"
   ]
  },
  {
   "cell_type": "code",
   "execution_count": 3,
   "metadata": {},
   "outputs": [],
   "source": [
    "import os, sys, argparse, gc\n",
    "import pandas as pd\n",
    "import numpy as np\n",
    "\n",
    "import tensorflow as tf\n",
    "from transformers import AutoTokenizer, TFAutoModelForQuestionAnswering, create_optimizer, DefaultDataCollator, AdamWeightDecay\n",
    "import datasets"
   ]
  },
  {
   "cell_type": "code",
   "execution_count": 4,
   "metadata": {},
   "outputs": [],
   "source": [
    "model_name = \"bert-base-multilingual-cased\"\n",
    "maxlen = 512\n",
    "stride = 128\n",
    "batch_size = 16"
   ]
  },
  {
   "cell_type": "markdown",
   "metadata": {},
   "source": [
    "## 2. Load Test Data"
   ]
  },
  {
   "cell_type": "code",
   "execution_count": 5,
   "metadata": {},
   "outputs": [
    {
     "name": "stdout",
     "output_type": "stream",
     "text": [
      "<class 'pandas.core.frame.DataFrame'>\n",
      "RangeIndex: 2068 entries, 0 to 2067\n",
      "Data columns (total 5 columns):\n",
      " #   Column        Non-Null Count  Dtype \n",
      "---  ------        --------------  ----- \n",
      " 0   context       2068 non-null   object\n",
      " 1   question      2068 non-null   object\n",
      " 2   answer        2068 non-null   object\n",
      " 3   answer_start  2068 non-null   int64 \n",
      " 4   answer_end    2068 non-null   int64 \n",
      "dtypes: int64(2), object(3)\n",
      "memory usage: 80.9+ KB\n"
     ]
    }
   ],
   "source": [
    "df_test = pd.read_csv(\"datasets/test.csv\")\n",
    "df_test.drop(\"title\", axis=1, inplace=True)\n",
    "df_test.info()"
   ]
  },
  {
   "cell_type": "code",
   "execution_count": 6,
   "metadata": {},
   "outputs": [
    {
     "data": {
      "text/plain": [
       "<AxesSubplot:>"
      ]
     },
     "execution_count": 6,
     "metadata": {},
     "output_type": "execute_result"
    },
    {
     "data": {
      "image/png": "[encoded data removed]",
      "text/plain": [
       "<Figure size 432x288 with 1 Axes>"
      ]
     },
     "metadata": {
      "needs_background": "light"
     },
     "output_type": "display_data"
    }
   ],
   "source": [
    "df_test[\"context_len\"] = df_test[\"context\"].apply(lambda x: len(x.split()))\n",
    "df_test[\"context_len\"].hist()"
   ]
  },
  {
   "cell_type": "markdown",
   "metadata": {},
   "source": [
    "## 3. Prepare Test dataset"
   ]
  },
  {
   "cell_type": "code",
   "execution_count": 8,
   "metadata": {},
   "outputs": [],
   "source": [
    "def preprocess_dataset(ds, tokenizer, maxlen, stride):\n",
    "    questions = [q.strip() for q in ds[\"question\"]]\n",
    "    inputs = tokenizer(\n",
    "        questions,\n",
    "        ds[\"context\"],\n",
    "        max_length=maxlen,\n",
    "        truncation=\"only_second\",\n",
    "        stride=stride,\n",
    "        return_overflowing_tokens=True,\n",
    "        return_offsets_mapping=True,\n",
    "        padding=\"max_length\",\n",
    "    )\n",
    "\n",
    "    offset_mapping = inputs.pop(\"offset_mapping\")\n",
    "    sample_map = inputs.pop(\"overflow_to_sample_mapping\")\n",
    "    # answers = ds[\"answer\"]\n",
    "    answer_starts = ds[\"answer_start\"]\n",
    "    answer_ends = ds[\"answer_end\"]\n",
    "    start_positions = []\n",
    "    end_positions = []\n",
    "\n",
    "    for i, offset in enumerate(offset_mapping):\n",
    "        sample_idx = sample_map[i]\n",
    "        # answer = answers[sample_idx]\n",
    "        start_char = answer_starts[sample_idx]\n",
    "        end_char = answer_ends[sample_idx]\n",
    "        sequence_ids = inputs.sequence_ids(i)\n",
    "\n",
    "        # Find the start and end of the context\n",
    "        idx = 0\n",
    "        while sequence_ids[idx] != 1:\n",
    "            idx += 1\n",
    "        context_start = idx\n",
    "        while sequence_ids[idx] == 1:\n",
    "            idx += 1\n",
    "        context_end = idx - 1\n",
    "\n",
    "        # If the answer is not fully inside the context, label is (0, 0)\n",
    "        if offset[context_start][0] > start_char or offset[context_end][1] < end_char:\n",
    "            start_positions.append(0)\n",
    "            end_positions.append(0)\n",
    "        else:\n",
    "            # Otherwise it's the start and end token positions\n",
    "            idx = context_start\n",
    "            while idx <= context_end and offset[idx][0] <= start_char:\n",
    "                idx += 1\n",
    "            start_positions.append(idx - 1)\n",
    "\n",
    "            idx = context_end\n",
    "            while idx >= context_start and offset[idx][1] >= end_char:\n",
    "                idx -= 1\n",
    "            end_positions.append(idx + 1)\n",
    "\n",
    "    inputs[\"start_positions\"] = start_positions\n",
    "    inputs[\"end_positions\"] = end_positions\n",
    "    return inputs"
   ]
  },
  {
   "cell_type": "code",
   "execution_count": 153,
   "metadata": {},
   "outputs": [],
   "source": [
    "tokenizer = AutoTokenizer.from_pretrained(model_name, use_fast=True)"
   ]
  },
  {
   "cell_type": "code",
   "execution_count": 184,
   "metadata": {},
   "outputs": [
    {
     "data": {
      "application/vnd.jupyter.widget-view+json": {
       "model_id": "682a82744577414185d5b1765edac520",
       "version_major": 2,
       "version_minor": 0
      },
      "text/plain": [
       "  0%|          | 0/3 [00:00<?, ?ba/s]"
      ]
     },
     "metadata": {},
     "output_type": "display_data"
    },
    {
     "data": {
      "text/plain": [
       "(2068, 3291)"
      ]
     },
     "execution_count": 184,
     "metadata": {},
     "output_type": "execute_result"
    }
   ],
   "source": [
    "ds_test = datasets.Dataset.from_dict(df_test)\n",
    "\n",
    "dataset_test = ds_test.map(\n",
    "    lambda ds: preprocess_dataset(ds, tokenizer, maxlen, stride),\n",
    "    batched=True,\n",
    "    remove_columns=ds_test.column_names,\n",
    ")\n",
    "len(ds_test), len(dataset_test)"
   ]
  },
  {
   "cell_type": "code",
   "execution_count": 185,
   "metadata": {},
   "outputs": [
    {
     "data": {
      "text/plain": [
       "Dataset({\n",
       "    features: ['input_ids', 'token_type_ids', 'attention_mask', 'start_positions', 'end_positions'],\n",
       "    num_rows: 3291\n",
       "})"
      ]
     },
     "execution_count": 185,
     "metadata": {},
     "output_type": "execute_result"
    }
   ],
   "source": [
    "dataset_test"
   ]
  },
  {
   "cell_type": "code",
   "execution_count": 186,
   "metadata": {},
   "outputs": [
    {
     "data": {
      "text/plain": [
       "20"
      ]
     },
     "execution_count": 186,
     "metadata": {},
     "output_type": "execute_result"
    }
   ],
   "source": [
    "dataset_test[0]['end_positions']"
   ]
  },
  {
   "cell_type": "code",
   "execution_count": 187,
   "metadata": {},
   "outputs": [],
   "source": [
    "data_collator = DefaultDataCollator(return_tensors=\"tf\")\n",
    "tf_dataset_test = dataset_test.to_tf_dataset(\n",
    "    columns=[\n",
    "        \"input_ids\",\n",
    "        \"attention_mask\",\n",
    "        \"token_type_ids\",\n",
    "    ],\n",
    "    collate_fn=data_collator,\n",
    "    shuffle=False,\n",
    "    batch_size=batch_size,\n",
    ")"
   ]
  },
  {
   "cell_type": "markdown",
   "metadata": {},
   "source": [
    "## 4. Load model"
   ]
  },
  {
   "cell_type": "code",
   "execution_count": 177,
   "metadata": {},
   "outputs": [
    {
     "name": "stderr",
     "output_type": "stream",
     "text": [
      "All model checkpoint layers were used when initializing TFBertForQuestionAnswering.\n",
      "\n",
      "Some layers of TFBertForQuestionAnswering were not initialized from the model checkpoint at bert-base-multilingual-cased and are newly initialized: ['qa_outputs']\n",
      "You should probably TRAIN this model on a down-stream task to be able to use it for predictions and inference.\n",
      "2022-09-04 13:56:02.395524: W tensorflow/core/util/tensor_slice_reader.cc:96] Could not open models/bert-base-multilingual-cased: FAILED_PRECONDITION: models/bert-base-multilingual-cased; Is a directory: perhaps your file is in a different file format and you need to use a different restore operator?\n"
     ]
    },
    {
     "data": {
      "text/plain": [
       "<tensorflow.python.training.tracking.util.CheckpointLoadStatus at 0x7f551279cc70>"
      ]
     },
     "execution_count": 177,
     "metadata": {},
     "output_type": "execute_result"
    }
   ],
   "source": [
    "# model = tf.keras.models.load_model(f\"models/{model_name}\", compile=False)\n",
    "model = TFAutoModelForQuestionAnswering.from_pretrained(model_name)\n",
    "model.load_weights(f\"models/{model_name}\")"
   ]
  },
  {
   "cell_type": "code",
   "execution_count": 178,
   "metadata": {},
   "outputs": [
    {
     "name": "stdout",
     "output_type": "stream",
     "text": [
      "Model: \"tf_bert_for_question_answering_1\"\n",
      "_________________________________________________________________\n",
      " Layer (type)                Output Shape              Param #   \n",
      "=================================================================\n",
      " bert (TFBertMainLayer)      multiple                  177262848 \n",
      "                                                                 \n",
      " qa_outputs (Dense)          multiple                  1538      \n",
      "                                                                 \n",
      "=================================================================\n",
      "Total params: 177,264,386\n",
      "Trainable params: 177,264,386\n",
      "Non-trainable params: 0\n",
      "_________________________________________________________________\n"
     ]
    }
   ],
   "source": [
    "model.summary()"
   ]
  },
  {
   "cell_type": "markdown",
   "metadata": {},
   "source": [
    "## 5. Predict"
   ]
  },
  {
   "cell_type": "code",
   "execution_count": 265,
   "metadata": {},
   "outputs": [],
   "source": [
    "def tokenize_question_context(question, context, tokenizer, maxlen, stride):\n",
    "    question = question.strip()\n",
    "    context = context.strip()\n",
    "    inputs = tokenizer(\n",
    "        question,\n",
    "        context,\n",
    "        max_length=maxlen,\n",
    "        truncation=\"only_second\",\n",
    "        stride=stride,\n",
    "        # return_overflowing_tokens=True,\n",
    "        # return_offsets_mapping=True,\n",
    "        padding=\"max_length\",\n",
    "        return_tensors=\"tf\"\n",
    "    )\n",
    "\n",
    "    return inputs"
   ]
  },
  {
   "cell_type": "code",
   "execution_count": 266,
   "metadata": {},
   "outputs": [],
   "source": [
    "def predict(model, question, context, tokenizer, maxlen, stride):\n",
    "    inputs = tokenize_question_context(question, context, tokenizer, maxlen, stride)\n",
    "    outputs = model(**inputs)\n",
    "\n",
    "    start_logits = outputs[\"start_logits\"].numpy()\n",
    "    end_logits = outputs[\"end_logits\"].numpy()\n",
    "\n",
    "    starts = np.argmax(start_logits, axis=1)\n",
    "    ends = np.argmax(end_logits,  axis=1)\n",
    "\n",
    "    start_scores = np.max(start_logits, axis=1)\n",
    "    end_scores = np.max(end_logits, axis=1)\n",
    "    scores = start_scores + end_scores\n",
    "\n",
    "    indices = []\n",
    "    for idx, start in enumerate(starts):\n",
    "        end = ends[idx]\n",
    "        if start == 0 and end == 0:\n",
    "            continue\n",
    "        if end < start:\n",
    "            continue\n",
    "        indices.append(idx)\n",
    "\n",
    "    answers = []\n",
    "    for idx in indices:\n",
    "        score = scores[idx]\n",
    "        ans_ids = inputs[\"input_ids\"][idx][starts[idx]:ends[idx]+1]\n",
    "        answer = tokenizer.decode(ans_ids, skip_special_tokens=True)\n",
    "        answers.append((answer, score))\n",
    "    return answers"
   ]
  },
  {
   "cell_type": "code",
   "execution_count": 214,
   "metadata": {},
   "outputs": [
    {
     "data": {
      "text/html": [
       "<div>\n",
       "<style scoped>\n",
       "    .dataframe tbody tr th:only-of-type {\n",
       "        vertical-align: middle;\n",
       "    }\n",
       "\n",
       "    .dataframe tbody tr th {\n",
       "        vertical-align: top;\n",
       "    }\n",
       "\n",
       "    .dataframe thead th {\n",
       "        text-align: right;\n",
       "    }\n",
       "</style>\n",
       "<table border=\"1\" class=\"dataframe\">\n",
       "  <thead>\n",
       "    <tr style=\"text-align: right;\">\n",
       "      <th></th>\n",
       "      <th>context</th>\n",
       "      <th>question</th>\n",
       "      <th>answer</th>\n",
       "      <th>answer_start</th>\n",
       "      <th>answer_end</th>\n",
       "      <th>context_len</th>\n",
       "    </tr>\n",
       "  </thead>\n",
       "  <tbody>\n",
       "    <tr>\n",
       "      <th>30</th>\n",
       "      <td>Từ một cô gái năng động, hoạt bát, trầm cảm kh...</td>\n",
       "      <td>Từ một cô gái năng động, hoạt bát, bệnh gì khi...</td>\n",
       "      <td>trầm cảm</td>\n",
       "      <td>35</td>\n",
       "      <td>43</td>\n",
       "      <td>727</td>\n",
       "    </tr>\n",
       "    <tr>\n",
       "      <th>31</th>\n",
       "      <td>Từ một cô gái năng động, hoạt bát, trầm cảm kh...</td>\n",
       "      <td>Cô có những biểu hiện như thế nào với tất cả n...</td>\n",
       "      <td>lầm lỳ, buồn chán và sợ hãi</td>\n",
       "      <td>115</td>\n",
       "      <td>142</td>\n",
       "      <td>727</td>\n",
       "    </tr>\n",
       "    <tr>\n",
       "      <th>32</th>\n",
       "      <td>Từ một cô gái năng động, hoạt bát, trầm cảm kh...</td>\n",
       "      <td>Cô ấy nghĩ gì để giải thoát những nổi ám ảnh?</td>\n",
       "      <td>tự tử</td>\n",
       "      <td>321</td>\n",
       "      <td>326</td>\n",
       "      <td>727</td>\n",
       "    </tr>\n",
       "    <tr>\n",
       "      <th>33</th>\n",
       "      <td>Từ một cô gái năng động, hoạt bát, trầm cảm kh...</td>\n",
       "      <td>Nghe theo lời khuyên của huấn luyện viên, Linh...</td>\n",
       "      <td>khóa tu Vipassana (thiền tịnh khẩu) trong một ...</td>\n",
       "      <td>948</td>\n",
       "      <td>1032</td>\n",
       "      <td>727</td>\n",
       "    </tr>\n",
       "    <tr>\n",
       "      <th>34</th>\n",
       "      <td>Từ một cô gái năng động, hoạt bát, trầm cảm kh...</td>\n",
       "      <td>Mai Linh bây giờ đã biết những gì?</td>\n",
       "      <td>yêu thương bản thân, bớt sợ hãi và dễ dàng tìm...</td>\n",
       "      <td>3223</td>\n",
       "      <td>3321</td>\n",
       "      <td>727</td>\n",
       "    </tr>\n",
       "  </tbody>\n",
       "</table>\n",
       "</div>"
      ],
      "text/plain": [
       "                                              context  \\\n",
       "30  Từ một cô gái năng động, hoạt bát, trầm cảm kh...   \n",
       "31  Từ một cô gái năng động, hoạt bát, trầm cảm kh...   \n",
       "32  Từ một cô gái năng động, hoạt bát, trầm cảm kh...   \n",
       "33  Từ một cô gái năng động, hoạt bát, trầm cảm kh...   \n",
       "34  Từ một cô gái năng động, hoạt bát, trầm cảm kh...   \n",
       "\n",
       "                                             question  \\\n",
       "30  Từ một cô gái năng động, hoạt bát, bệnh gì khi...   \n",
       "31  Cô có những biểu hiện như thế nào với tất cả n...   \n",
       "32      Cô ấy nghĩ gì để giải thoát những nổi ám ảnh?   \n",
       "33  Nghe theo lời khuyên của huấn luyện viên, Linh...   \n",
       "34                 Mai Linh bây giờ đã biết những gì?   \n",
       "\n",
       "                                               answer  answer_start  \\\n",
       "30                                           trầm cảm            35   \n",
       "31                        lầm lỳ, buồn chán và sợ hãi           115   \n",
       "32                                              tự tử           321   \n",
       "33  khóa tu Vipassana (thiền tịnh khẩu) trong một ...           948   \n",
       "34  yêu thương bản thân, bớt sợ hãi và dễ dàng tìm...          3223   \n",
       "\n",
       "    answer_end  context_len  \n",
       "30          43          727  \n",
       "31         142          727  \n",
       "32         326          727  \n",
       "33        1032          727  \n",
       "34        3321          727  "
      ]
     },
     "execution_count": 214,
     "metadata": {},
     "output_type": "execute_result"
    }
   ],
   "source": [
    "df = df_test[df_test[\"context_len\"] > 500]\n",
    "df.head()"
   ]
  },
  {
   "cell_type": "code",
   "execution_count": 274,
   "metadata": {},
   "outputs": [
    {
     "data": {
      "text/html": [
       "<div>\n",
       "<style scoped>\n",
       "    .dataframe tbody tr th:only-of-type {\n",
       "        vertical-align: middle;\n",
       "    }\n",
       "\n",
       "    .dataframe tbody tr th {\n",
       "        vertical-align: top;\n",
       "    }\n",
       "\n",
       "    .dataframe thead th {\n",
       "        text-align: right;\n",
       "    }\n",
       "</style>\n",
       "<table border=\"1\" class=\"dataframe\">\n",
       "  <thead>\n",
       "    <tr style=\"text-align: right;\">\n",
       "      <th></th>\n",
       "      <th>context</th>\n",
       "      <th>question</th>\n",
       "      <th>answer</th>\n",
       "      <th>answer_start</th>\n",
       "      <th>answer_end</th>\n",
       "      <th>context_len</th>\n",
       "    </tr>\n",
       "  </thead>\n",
       "  <tbody>\n",
       "    <tr>\n",
       "      <th>0</th>\n",
       "      <td>Ông Bình phát hiện ung thư thanh quản cách đây...</td>\n",
       "      <td>Cách đây 3 năm ông Bình mắc bệnh gì?</td>\n",
       "      <td>ung thư thanh quản</td>\n",
       "      <td>19</td>\n",
       "      <td>37</td>\n",
       "      <td>388</td>\n",
       "    </tr>\n",
       "    <tr>\n",
       "      <th>1</th>\n",
       "      <td>Ông Bình phát hiện ung thư thanh quản cách đây...</td>\n",
       "      <td>Với kỹ thuật cũ, liệu trình trị xạ là bao nhiê...</td>\n",
       "      <td>30 lần</td>\n",
       "      <td>1263</td>\n",
       "      <td>1269</td>\n",
       "      <td>388</td>\n",
       "    </tr>\n",
       "    <tr>\n",
       "      <th>2</th>\n",
       "      <td>Ông Bình phát hiện ung thư thanh quản cách đây...</td>\n",
       "      <td>Phương pháp mới có ngưỡng sai số là bao nhiêu?</td>\n",
       "      <td>một mm</td>\n",
       "      <td>1451</td>\n",
       "      <td>1457</td>\n",
       "      <td>388</td>\n",
       "    </tr>\n",
       "    <tr>\n",
       "      <th>3</th>\n",
       "      <td>Ông Bình phát hiện ung thư thanh quản cách đây...</td>\n",
       "      <td>Kỹ thuật mới áp dụng cho những trường hợp nào?</td>\n",
       "      <td>bướu nhỏ, giai đoạn sớm, tái phát còn khu trú ...</td>\n",
       "      <td>1589</td>\n",
       "      <td>1722</td>\n",
       "      <td>388</td>\n",
       "    </tr>\n",
       "    <tr>\n",
       "      <th>4</th>\n",
       "      <td>Ông Bình phát hiện ung thư thanh quản cách đây...</td>\n",
       "      <td>Với kỹ thuật cũ, ngưỡng sai số của liều xạ là ...</td>\n",
       "      <td>lên đến 5-10 mm</td>\n",
       "      <td>1294</td>\n",
       "      <td>1309</td>\n",
       "      <td>388</td>\n",
       "    </tr>\n",
       "  </tbody>\n",
       "</table>\n",
       "</div>"
      ],
      "text/plain": [
       "                                             context  \\\n",
       "0  Ông Bình phát hiện ung thư thanh quản cách đây...   \n",
       "1  Ông Bình phát hiện ung thư thanh quản cách đây...   \n",
       "2  Ông Bình phát hiện ung thư thanh quản cách đây...   \n",
       "3  Ông Bình phát hiện ung thư thanh quản cách đây...   \n",
       "4  Ông Bình phát hiện ung thư thanh quản cách đây...   \n",
       "\n",
       "                                            question  \\\n",
       "0               Cách đây 3 năm ông Bình mắc bệnh gì?   \n",
       "1  Với kỹ thuật cũ, liệu trình trị xạ là bao nhiê...   \n",
       "2     Phương pháp mới có ngưỡng sai số là bao nhiêu?   \n",
       "3     Kỹ thuật mới áp dụng cho những trường hợp nào?   \n",
       "4  Với kỹ thuật cũ, ngưỡng sai số của liều xạ là ...   \n",
       "\n",
       "                                              answer  answer_start  \\\n",
       "0                                 ung thư thanh quản            19   \n",
       "1                                             30 lần          1263   \n",
       "2                                             một mm          1451   \n",
       "3  bướu nhỏ, giai đoạn sớm, tái phát còn khu trú ...          1589   \n",
       "4                                    lên đến 5-10 mm          1294   \n",
       "\n",
       "   answer_end  context_len  \n",
       "0          37          388  \n",
       "1        1269          388  \n",
       "2        1457          388  \n",
       "3        1722          388  \n",
       "4        1309          388  "
      ]
     },
     "execution_count": 274,
     "metadata": {},
     "output_type": "execute_result"
    }
   ],
   "source": [
    "df_test.head()"
   ]
  },
  {
   "cell_type": "code",
   "execution_count": 277,
   "metadata": {},
   "outputs": [
    {
     "name": "stdout",
     "output_type": "stream",
     "text": [
      "[('30 lần và ngưỡng sai số có thể lên đến 5 - 10 mm', 17.33732)]\n"
     ]
    }
   ],
   "source": [
    "idx = 4\n",
    "# question = df.loc[idx, \"question\"]\n",
    "# context = df.loc[idx, \"context\"]\n",
    "question = df_test.loc[idx, \"question\"]\n",
    "context = df_test.loc[idx, \"context\"]\n",
    "\n",
    "answers = predict(model, question, context, tokenizer, maxlen, stride)\n",
    "print(answers)"
   ]
  },
  {
   "cell_type": "markdown",
   "metadata": {},
   "source": [
    "## 6. Evaluation"
   ]
  },
  {
   "cell_type": "code",
   "execution_count": 282,
   "metadata": {},
   "outputs": [
    {
     "data": {
      "text/plain": [
       "(3291, 3291)"
      ]
     },
     "execution_count": 282,
     "metadata": {},
     "output_type": "execute_result"
    }
   ],
   "source": [
    "start_positions = dataset_test['start_positions']\n",
    "end_positions = dataset_test['end_positions']\n",
    "\n",
    "len(start_positions), len(end_positions)"
   ]
  },
  {
   "cell_type": "code",
   "execution_count": 278,
   "metadata": {},
   "outputs": [
    {
     "name": "stdout",
     "output_type": "stream",
     "text": [
      "206/206 [==============================] - 2140s 10s/step\n"
     ]
    }
   ],
   "source": [
    "predictions = model.predict(tf_dataset_test)"
   ]
  },
  {
   "cell_type": "code",
   "execution_count": 285,
   "metadata": {},
   "outputs": [
    {
     "data": {
      "text/plain": [
       "(3291, 3291)"
      ]
     },
     "execution_count": 285,
     "metadata": {},
     "output_type": "execute_result"
    }
   ],
   "source": [
    "start_logits = predictions.start_logits\n",
    "end_logits = predictions.end_logits\n",
    "\n",
    "pred_start_positions = np.argmax(start_logits, axis=1)\n",
    "pred_end_positions = np.argmax(end_logits, axis=1)\n",
    "\n",
    "len(pred_start_positions), len(pred_end_positions)"
   ]
  },
  {
   "cell_type": "code",
   "execution_count": 286,
   "metadata": {},
   "outputs": [
    {
     "name": "stdout",
     "output_type": "stream",
     "text": [
      "Accuracy : 0.6274688544515344\n"
     ]
    }
   ],
   "source": [
    "acc = 0\n",
    "for i, start in enumerate(start_positions):\n",
    "    end = end_positions[i]\n",
    "    pred_start = pred_start_positions[i]\n",
    "    pred_end = pred_end_positions[i]\n",
    "    if start == pred_start and end == pred_end:\n",
    "        acc += 1\n",
    "\n",
    "acc /= len(start_positions)\n",
    "print(\"Accuracy :\", acc)"
   ]
  },
  {
   "cell_type": "markdown",
   "metadata": {},
   "source": [
    "## 7. Evaluation xlm-roberta-base"
   ]
  },
  {
   "cell_type": "code",
   "execution_count": 287,
   "metadata": {},
   "outputs": [],
   "source": [
    "model_name = \"xlm-roberta-base\""
   ]
  },
  {
   "cell_type": "code",
   "execution_count": 288,
   "metadata": {},
   "outputs": [],
   "source": [
    "tokenizer = AutoTokenizer.from_pretrained(model_name, use_fast=True)"
   ]
  },
  {
   "cell_type": "code",
   "execution_count": 289,
   "metadata": {},
   "outputs": [
    {
     "data": {
      "application/vnd.jupyter.widget-view+json": {
       "model_id": "dc23d0c91bea4b07bad21e2ea8dc7c5e",
       "version_major": 2,
       "version_minor": 0
      },
      "text/plain": [
       "  0%|          | 0/3 [00:00<?, ?ba/s]"
      ]
     },
     "metadata": {},
     "output_type": "display_data"
    },
    {
     "data": {
      "text/plain": [
       "(2068, 3069)"
      ]
     },
     "execution_count": 289,
     "metadata": {},
     "output_type": "execute_result"
    }
   ],
   "source": [
    "ds_test = datasets.Dataset.from_dict(df_test)\n",
    "\n",
    "dataset_test = ds_test.map(\n",
    "    lambda ds: preprocess_dataset(ds, tokenizer, maxlen, stride),\n",
    "    batched=True,\n",
    "    remove_columns=ds_test.column_names,\n",
    ")\n",
    "len(ds_test), len(dataset_test)"
   ]
  },
  {
   "cell_type": "code",
   "execution_count": 290,
   "metadata": {},
   "outputs": [],
   "source": [
    "data_collator = DefaultDataCollator(return_tensors=\"tf\")\n",
    "tf_dataset_test = dataset_test.to_tf_dataset(\n",
    "    columns=[\n",
    "        \"input_ids\",\n",
    "        \"attention_mask\",\n",
    "        \"token_type_ids\",\n",
    "    ],\n",
    "    collate_fn=data_collator,\n",
    "    shuffle=False,\n",
    "    batch_size=batch_size,\n",
    ")"
   ]
  },
  {
   "cell_type": "code",
   "execution_count": 291,
   "metadata": {},
   "outputs": [
    {
     "data": {
      "application/vnd.jupyter.widget-view+json": {
       "model_id": "20d34b548cc44d789b3911a8ee3f8da3",
       "version_major": 2,
       "version_minor": 0
      },
      "text/plain": [
       "Downloading:   0%|          | 0.00/1.04G [00:00<?, ?B/s]"
      ]
     },
     "metadata": {},
     "output_type": "display_data"
    },
    {
     "name": "stderr",
     "output_type": "stream",
     "text": [
      "All model checkpoint layers were used when initializing TFXLMRobertaForQuestionAnswering.\n",
      "\n",
      "Some layers of TFXLMRobertaForQuestionAnswering were not initialized from the model checkpoint at xlm-roberta-base and are newly initialized: ['qa_outputs']\n",
      "You should probably TRAIN this model on a down-stream task to be able to use it for predictions and inference.\n",
      "2022-09-04 16:54:04.791233: W tensorflow/core/util/tensor_slice_reader.cc:96] Could not open models/xlm-roberta-base: FAILED_PRECONDITION: models/xlm-roberta-base; Is a directory: perhaps your file is in a different file format and you need to use a different restore operator?\n"
     ]
    },
    {
     "data": {
      "text/plain": [
       "<tensorflow.python.training.tracking.util.CheckpointLoadStatus at 0x7f5437c1c940>"
      ]
     },
     "execution_count": 291,
     "metadata": {},
     "output_type": "execute_result"
    }
   ],
   "source": [
    "model = TFAutoModelForQuestionAnswering.from_pretrained(model_name)\n",
    "model.load_weights(f\"models/{model_name}\")"
   ]
  },
  {
   "cell_type": "code",
   "execution_count": 292,
   "metadata": {},
   "outputs": [
    {
     "data": {
      "text/plain": [
       "(3069, 3069)"
      ]
     },
     "execution_count": 292,
     "metadata": {},
     "output_type": "execute_result"
    }
   ],
   "source": [
    "start_positions = dataset_test['start_positions']\n",
    "end_positions = dataset_test['end_positions']\n",
    "\n",
    "len(start_positions), len(end_positions)"
   ]
  },
  {
   "cell_type": "code",
   "execution_count": 293,
   "metadata": {},
   "outputs": [
    {
     "name": "stdout",
     "output_type": "stream",
     "text": [
      "192/192 [==============================] - 2140s 11s/step\n"
     ]
    }
   ],
   "source": [
    "predictions = model.predict(tf_dataset_test)"
   ]
  },
  {
   "cell_type": "code",
   "execution_count": 294,
   "metadata": {},
   "outputs": [
    {
     "data": {
      "text/plain": [
       "(3069, 3069)"
      ]
     },
     "execution_count": 294,
     "metadata": {},
     "output_type": "execute_result"
    }
   ],
   "source": [
    "start_logits = predictions.start_logits\n",
    "end_logits = predictions.end_logits\n",
    "\n",
    "pred_start_positions = np.argmax(start_logits, axis=1)\n",
    "pred_end_positions = np.argmax(end_logits, axis=1)\n",
    "\n",
    "len(pred_start_positions), len(pred_end_positions)"
   ]
  },
  {
   "cell_type": "code",
   "execution_count": 295,
   "metadata": {},
   "outputs": [
    {
     "name": "stdout",
     "output_type": "stream",
     "text": [
      "Accuracy : 0.6480938416422287\n"
     ]
    }
   ],
   "source": [
    "acc = 0\n",
    "for i, start in enumerate(start_positions):\n",
    "    end = end_positions[i]\n",
    "    pred_start = pred_start_positions[i]\n",
    "    pred_end = pred_end_positions[i]\n",
    "    if start == pred_start and end == pred_end:\n",
    "        acc += 1\n",
    "\n",
    "acc /= len(start_positions)\n",
    "print(\"Accuracy :\", acc)"
   ]
  },
  {
   "cell_type": "markdown",
   "metadata": {},
   "source": [
    "## 8. Evaluation xlm-roberta-base"
   ]
  },
  {
   "cell_type": "code",
   "execution_count": 17,
   "metadata": {},
   "outputs": [],
   "source": [
    "model_name = \"xlm-roberta-large\""
   ]
  },
  {
   "cell_type": "code",
   "execution_count": 18,
   "metadata": {},
   "outputs": [
    {
     "data": {
      "application/vnd.jupyter.widget-view+json": {
       "model_id": "53c2d2a96cd34051ba6cbef7a070b0e4",
       "version_major": 2,
       "version_minor": 0
      },
      "text/plain": [
       "Downloading:   0%|          | 0.00/616 [00:00<?, ?B/s]"
      ]
     },
     "metadata": {},
     "output_type": "display_data"
    },
    {
     "data": {
      "application/vnd.jupyter.widget-view+json": {
       "model_id": "c9b21dd4bee04f80b805fafd61e392a3",
       "version_major": 2,
       "version_minor": 0
      },
      "text/plain": [
       "Downloading:   0%|          | 0.00/4.83M [00:00<?, ?B/s]"
      ]
     },
     "metadata": {},
     "output_type": "display_data"
    },
    {
     "data": {
      "application/vnd.jupyter.widget-view+json": {
       "model_id": "d4abedf44cc8495abee05e12a88cd0cf",
       "version_major": 2,
       "version_minor": 0
      },
      "text/plain": [
       "Downloading:   0%|          | 0.00/8.68M [00:00<?, ?B/s]"
      ]
     },
     "metadata": {},
     "output_type": "display_data"
    }
   ],
   "source": [
    "tokenizer = AutoTokenizer.from_pretrained(model_name, use_fast=True)"
   ]
  },
  {
   "cell_type": "code",
   "execution_count": 19,
   "metadata": {},
   "outputs": [
    {
     "data": {
      "application/vnd.jupyter.widget-view+json": {
       "model_id": "d2dffb58085e4f00b2129b77daacabfe",
       "version_major": 2,
       "version_minor": 0
      },
      "text/plain": [
       "  0%|          | 0/3 [00:00<?, ?ba/s]"
      ]
     },
     "metadata": {},
     "output_type": "display_data"
    },
    {
     "data": {
      "text/plain": [
       "(2068, 3069)"
      ]
     },
     "execution_count": 19,
     "metadata": {},
     "output_type": "execute_result"
    }
   ],
   "source": [
    "ds_test = datasets.Dataset.from_dict(df_test)\n",
    "\n",
    "dataset_test = ds_test.map(\n",
    "    lambda ds: preprocess_dataset(ds, tokenizer, maxlen, stride),\n",
    "    batched=True,\n",
    "    remove_columns=ds_test.column_names,\n",
    ")\n",
    "len(ds_test), len(dataset_test)"
   ]
  },
  {
   "cell_type": "code",
   "execution_count": 20,
   "metadata": {},
   "outputs": [],
   "source": [
    "data_collator = DefaultDataCollator(return_tensors=\"tf\")\n",
    "tf_dataset_test = dataset_test.to_tf_dataset(\n",
    "    columns=[\n",
    "        \"input_ids\",\n",
    "        \"attention_mask\",\n",
    "        \"token_type_ids\",\n",
    "    ],\n",
    "    collate_fn=data_collator,\n",
    "    shuffle=False,\n",
    "    batch_size=batch_size,\n",
    ")"
   ]
  },
  {
   "cell_type": "code",
   "execution_count": 21,
   "metadata": {},
   "outputs": [
    {
     "data": {
      "application/vnd.jupyter.widget-view+json": {
       "model_id": "1ad1494abc6543e0a0540e7d2dd9785e",
       "version_major": 2,
       "version_minor": 0
      },
      "text/plain": [
       "Downloading:   0%|          | 0.00/2.09G [00:00<?, ?B/s]"
      ]
     },
     "metadata": {},
     "output_type": "display_data"
    },
    {
     "name": "stderr",
     "output_type": "stream",
     "text": [
      "All model checkpoint layers were used when initializing TFXLMRobertaForQuestionAnswering.\n",
      "\n",
      "Some layers of TFXLMRobertaForQuestionAnswering were not initialized from the model checkpoint at xlm-roberta-large and are newly initialized: ['qa_outputs']\n",
      "You should probably TRAIN this model on a down-stream task to be able to use it for predictions and inference.\n",
      "2022-09-05 12:14:13.828560: W tensorflow/core/util/tensor_slice_reader.cc:96] Could not open models/xlm-roberta-large: FAILED_PRECONDITION: models/xlm-roberta-large; Is a directory: perhaps your file is in a different file format and you need to use a different restore operator?\n"
     ]
    },
    {
     "data": {
      "text/plain": [
       "<tensorflow.python.training.tracking.util.CheckpointLoadStatus at 0x7f6b48372b20>"
      ]
     },
     "execution_count": 21,
     "metadata": {},
     "output_type": "execute_result"
    }
   ],
   "source": [
    "model = TFAutoModelForQuestionAnswering.from_pretrained(model_name)\n",
    "model.load_weights(f\"models/{model_name}\")"
   ]
  },
  {
   "cell_type": "code",
   "execution_count": 22,
   "metadata": {},
   "outputs": [
    {
     "data": {
      "text/plain": [
       "(3069, 3069)"
      ]
     },
     "execution_count": 22,
     "metadata": {},
     "output_type": "execute_result"
    }
   ],
   "source": [
    "start_positions = dataset_test['start_positions']\n",
    "end_positions = dataset_test['end_positions']\n",
    "\n",
    "len(start_positions), len(end_positions)"
   ]
  },
  {
   "cell_type": "code",
   "execution_count": 23,
   "metadata": {},
   "outputs": [
    {
     "name": "stdout",
     "output_type": "stream",
     "text": [
      "192/192 [==============================] - 7266s 38s/step\n"
     ]
    }
   ],
   "source": [
    "predictions = model.predict(tf_dataset_test)"
   ]
  },
  {
   "cell_type": "code",
   "execution_count": 24,
   "metadata": {},
   "outputs": [
    {
     "data": {
      "text/plain": [
       "(3069, 3069)"
      ]
     },
     "execution_count": 24,
     "metadata": {},
     "output_type": "execute_result"
    }
   ],
   "source": [
    "start_logits = predictions.start_logits\n",
    "end_logits = predictions.end_logits\n",
    "\n",
    "pred_start_positions = np.argmax(start_logits, axis=1)\n",
    "pred_end_positions = np.argmax(end_logits, axis=1)\n",
    "\n",
    "len(pred_start_positions), len(pred_end_positions)"
   ]
  },
  {
   "cell_type": "code",
   "execution_count": 25,
   "metadata": {},
   "outputs": [
    {
     "name": "stdout",
     "output_type": "stream",
     "text": [
      "Accuracy : 0.6966438579341805\n"
     ]
    }
   ],
   "source": [
    "acc = 0\n",
    "for i, start in enumerate(start_positions):\n",
    "    end = end_positions[i]\n",
    "    pred_start = pred_start_positions[i]\n",
    "    pred_end = pred_end_positions[i]\n",
    "    if start == pred_start and end == pred_end:\n",
    "        acc += 1\n",
    "\n",
    "acc /= len(start_positions)\n",
    "print(\"Accuracy :\", acc)"
   ]
  },
  {
   "cell_type": "code",
   "execution_count": null,
   "metadata": {},
   "outputs": [],
   "source": []
  }
 ],
 "metadata": {
  "kernelspec": {
   "display_name": "Python 3.10.6 ('base')",
   "language": "python",
   "name": "python3"
  },
  "language_info": {
   "codemirror_mode": {
    "name": "ipython",
    "version": 3
   },
   "file_extension": ".py",
   "mimetype": "text/x-python",
   "name": "python",
   "nbconvert_exporter": "python",
   "pygments_lexer": "ipython3",
   "version": "3.10.6"
  },
  "orig_nbformat": 4,
  "vscode": {
   "interpreter": {
    "hash": "05ba19d9ae51d22527c9d8a581a8f071558a6865eb84731cb7012e43c774991b"
   }
  }
 },
 "nbformat": 4,
 "nbformat_minor": 2
}
